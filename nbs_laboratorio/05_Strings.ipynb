{
  "cells": [
    {
      "cell_type": "markdown",
      "metadata": {
        "id": "MPNInN1OmpgC",
        "colab_type": "text"
      },
      "source": [
        "# Strings"
      ]
    },
    {
      "cell_type": "code",
      "metadata": {
        "id": "RzVoPREwouIG",
        "colab_type": "code",
        "outputId": "c791c45b-810c-4ec0-eb8f-bab0714ce858",
        "colab": {
          "base_uri": "https://localhost:8080/",
          "height": 100
        }
      },
      "source": [
        "#Las comillas encierran caracteres para decirle a python \"Esto es un string\"\n",
        "#comillas simples o comillas dolbles son las mas comunes\n",
        "\n",
        "print('comillas simples')\n",
        "print(\"comillas dobles\")\n",
        "\n",
        "#strings con triples comillas son menos comunes \n",
        "\n",
        "print('''triple comillas simples''')\n",
        "print(\"\"\"triple comillas dobles\"\"\")\n",
        "\n",
        "#La razon para tener multiple tipos de comillas es porque necesitamos cosas como estas:\n",
        "\n",
        "print('El docente dijo \"sin computadoras en clase!\" Extraño mi computadora.')"
      ],
      "execution_count": 0,
      "outputs": [
        {
          "output_type": "stream",
          "text": [
            "comillas simples\n",
            "comillas dobles\n",
            "triple comillas simples\n",
            "triple comillas dobles\n",
            "El docente dijo \"sin computadoras en clase!\" Extraño mi computadora.\n"
          ],
          "name": "stdout"
        }
      ]
    },
    {
      "cell_type": "code",
      "metadata": {
        "id": "c0YUylsU5eXT",
        "colab_type": "code",
        "outputId": "b09915be-b482-4fc7-da0b-66580e8d2c59",
        "colab": {
          "base_uri": "https://localhost:8080/",
          "height": 130
        }
      },
      "source": [
        "#Mira lo que pasa si solo usamos un tipo de comillas\n",
        "#Esto causa un SyntaxError. \n",
        "\n",
        "print(\"El docente dijo \" sin computadoras en clase!\" Extraño mi computadora.\")"
      ],
      "execution_count": 1,
      "outputs": [
        {
          "output_type": "error",
          "ename": "SyntaxError",
          "evalue": "invalid syntax (<ipython-input-1-c6c3113d9be8>, line 4)",
          "traceback": [
            "\u001b[0;36m  File \u001b[0;32m\"<ipython-input-1-c6c3113d9be8>\"\u001b[0;36m, line \u001b[0;32m4\u001b[0m\n\u001b[0;31m    print(\"El docente dijo \" sin computadoras en clase!\" Extraño mi computadora.\")\u001b[0m\n\u001b[0m                               ^\u001b[0m\n\u001b[0;31mSyntaxError\u001b[0m\u001b[0;31m:\u001b[0m invalid syntax\n"
          ]
        }
      ]
    },
    {
      "cell_type": "markdown",
      "metadata": {
        "id": "8CMctNHgpUPF",
        "colab_type": "text"
      },
      "source": [
        "Nueva linea en strings"
      ]
    },
    {
      "cell_type": "code",
      "metadata": {
        "id": "BsTg_I-W6fft",
        "colab_type": "code",
        "outputId": "80894b00-aadf-462e-adb6-97ae59aaa968",
        "colab": {
          "base_uri": "https://localhost:8080/",
          "height": 166
        }
      },
      "source": [
        "#Un caracter precedido por una barra invertida es un escape de caracteres\n",
        "#Aunque sean dos caracteres python trata a estos como un caracter especial\n",
        "\n",
        "\n",
        "#Las siguientes sentencias print hacen lo mismo\n",
        "\n",
        "print(\"abc\\ndef\")  # \\n es un caracter de nuevaline.\n",
        "print(\"\"\"abc\n",
        "def\"\"\")\n",
        "\n",
        "print(\"\"\"\\\n",
        "Puedes usar la barra invertida al final de linea en un string, para excluir\n",
        "la nueva lines despues de la barra. Esto no deberia usarse nunca pero un buen uso\n",
        "de esto es este ejemplo, al inicio de un string multilinea, asi todo el texto puede\n",
        "leerse con la misma identacion \n",
        "\"\"\")"
      ],
      "execution_count": 0,
      "outputs": [
        {
          "output_type": "stream",
          "text": [
            "abc\n",
            "def\n",
            "abc\n",
            "def\n",
            "Puedes usar la barra invertida al final de linea en un string, para excluir\n",
            "la nueva lines despues de la barra. Esto no deberia usarse nunca pero un buen uso\n",
            "de esto es este ejemplo, al inicio de un string multilinea, asi todo el texto puede\n",
            "leerse con la misma identacion \n",
            "\n"
          ],
          "name": "stdout"
        }
      ]
    },
    {
      "cell_type": "markdown",
      "metadata": {
        "id": "jVrjbiKFFfXi",
        "colab_type": "text"
      },
      "source": [
        "Mas escape de caracteres"
      ]
    },
    {
      "cell_type": "code",
      "metadata": {
        "id": "Am7huCrc9bOD",
        "colab_type": "code",
        "outputId": "f01d7278-6a4c-4de0-d467-718817c720e9",
        "colab": {
          "base_uri": "https://localhost:8080/",
          "height": 183
        }
      },
      "source": [
        "print(\"Comillas boles: \\\"\")\n",
        "print(\"Barra invertida: \\\\\")\n",
        "print(\"Nueva linea (entre coorchetes): [\\n]\")\n",
        "print(\"Tabulacion (entre coorchetes ): [\\t]\")\n",
        "print(\"Tabulacion (entre coorchetes ): [\\t]\")\n",
        "\n",
        "print(\"Este item esta delimitado por tabulaciones, 3 por linea:\")\n",
        "print(\"abc\\tdef\\tg\\nhi\\tj\\\\\\tk\\n---\")"
      ],
      "execution_count": 0,
      "outputs": [
        {
          "output_type": "stream",
          "text": [
            "Comillas boles: \"\n",
            "Barra invertida: \\\n",
            "Nueva linea (entre coorchetes): [\n",
            "]\n",
            "Tabulacion (entre coorchetes ): [\t]\n",
            "Tabulacion (entre coorchetes ): [\t]\n",
            "Este item esta delimitado por tabulaciones, 3 por linea:\n",
            "abc\tdef\tg\n",
            "hi\tj\\\tk\n",
            "---\n"
          ],
          "name": "stdout"
        }
      ]
    },
    {
      "cell_type": "markdown",
      "metadata": {
        "id": "FpS4FfIzgiVC",
        "colab_type": "text"
      },
      "source": [
        "Un caracter de escape devuelve un solo caracter"
      ]
    },
    {
      "cell_type": "code",
      "metadata": {
        "id": "Ort3VsxAgpFP",
        "colab_type": "code",
        "outputId": "45558eb3-540b-476f-c50d-2e6c00257482",
        "colab": {
          "base_uri": "https://localhost:8080/",
          "height": 50
        }
      },
      "source": [
        "s = \"a\\\\b\\\"c\\td\"\n",
        "print(\"s =\", s)\n",
        "print(\"len(s) =\", len(s))"
      ],
      "execution_count": 0,
      "outputs": [
        {
          "output_type": "stream",
          "text": [
            "s = a\\b\"c\td\n",
            "len(s) = 7\n"
          ],
          "name": "stdout"
        }
      ]
    },
    {
      "cell_type": "markdown",
      "metadata": {
        "id": "P--9Ki10gwdO",
        "colab_type": "text"
      },
      "source": [
        "# repr() vs print()\n",
        "A veces puede ser dificil debugear strings, Dos strings cuando se imprimen pueden parecer identicos pero realmente pueden no serlo. ¿Se puede distinguir entre tabulacion y espacios? \n",
        "La funcion repr() es una version formal de print()\n",
        "print() esta destinada a producir resultados para los usuarios, mientras repr() nos muestra una representacion de los datos contenidos en el string"
      ]
    },
    {
      "cell_type": "code",
      "metadata": {
        "id": "KsGOzDlFhrGR",
        "colab_type": "code",
        "outputId": "d0c9c641-4df3-4898-e38e-3b5d9f82b866",
        "colab": {
          "base_uri": "https://localhost:8080/",
          "height": 316
        }
      },
      "source": [
        "print(\"Se ven iguales al imprimirlos!\")\n",
        "s1=\"abc\\tdef\"\n",
        "s2=\"abc  def\"\n",
        "\n",
        "print(\"print s1: \",s1)\n",
        "print(\"print s2: \",s2)\n",
        "\n",
        "print(\"\\nPero en realidad no lo son...\")\n",
        "print(\"s1==s2?\", s1==s2)\n",
        "\n",
        "print(\"\\nIntentemos con repr\")\n",
        "print(\"repr s1: \",repr(s1))\n",
        "print(\"repr s2: \",repr(s2))\n",
        "\n",
        "print(\"\\nAca hay uno ingenioso\")\n",
        "s1=\"abcdef\"\n",
        "s2=\"abcdef             \\t\"\n",
        "\n",
        "print(\"print s1: \",s1)\n",
        "print(\"print s2: \",s2)\n",
        "\n",
        "print(\"s1==s2?\", s1==s2)\n",
        "\n",
        "print(\"repr s1: \",repr(s1))\n",
        "print(\"repr s2: \",repr(s2))\n",
        "print(\"repr() te permite ver los espacios^^^\")"
      ],
      "execution_count": 0,
      "outputs": [
        {
          "output_type": "stream",
          "text": [
            "Se ven iguales al imprimirlos!\n",
            "print s1:  abc\tdef\n",
            "print s2:  abc  def\n",
            "\n",
            "Pero en realidad no lo son...\n",
            "s1==s2? False\n",
            "\n",
            "Intentemos con repr\n",
            "repr s1:  'abc\\tdef'\n",
            "repr s2:  'abc  def'\n",
            "\n",
            "Aca hay uno ingenioso\n",
            "print s1:  abcdef\n",
            "print s2:  abcdef             \t\n",
            "s1==s2? False\n",
            "repr s1:  'abcdef'\n",
            "repr s2:  'abcdef             \\t'\n",
            "repr() te permite ver los espacios^^^\n"
          ],
          "name": "stdout"
        }
      ]
    },
    {
      "cell_type": "markdown",
      "metadata": {
        "id": "Qg-v2XyIm9Oh",
        "colab_type": "text"
      },
      "source": [
        "Strings literales como multi leneas"
      ]
    },
    {
      "cell_type": "code",
      "metadata": {
        "id": "89bhO5hQm9aK",
        "colab_type": "code",
        "outputId": "fc603f84-5f8e-4e47-cb1d-9cdb4c19e082",
        "colab": {
          "base_uri": "https://localhost:8080/",
          "height": 33
        }
      },
      "source": [
        "\"\"\"\n",
        "python no cuenta con comentarios multilinea, pero puedes hacer algo similar \n",
        "usando un string multilinea, como este. Tecnicamente esto no es un comentario\n",
        "y Python evalua este string, pero luego es ignorado\n",
        "\n",
        "\"\"\"\n",
        "print(\"wow!\")"
      ],
      "execution_count": 0,
      "outputs": [
        {
          "output_type": "stream",
          "text": [
            "wow!\n"
          ],
          "name": "stdout"
        }
      ]
    },
    {
      "cell_type": "markdown",
      "metadata": {
        "id": "Md721y35oORb",
        "colab_type": "text"
      },
      "source": [
        "# Algunas constantes de strings"
      ]
    },
    {
      "cell_type": "code",
      "metadata": {
        "id": "D0QSTXeFoOgr",
        "colab_type": "code",
        "outputId": "7c7fc0b0-d49d-4396-8343-d58794956284",
        "colab": {
          "base_uri": "https://localhost:8080/",
          "height": 216
        }
      },
      "source": [
        "import string\n",
        "print(string.ascii_letters)   # abcdefghijklmnopqrstuvwxyzABCDEFGHIJKLMNOPQRSTUVWXYZ\n",
        "print(string.ascii_lowercase) # abcdefghijklmnopqrstuvwxyz\n",
        "print(\"-----------\")\n",
        "print(string.ascii_uppercase) # ABCDEFGHIJKLMNOPQRSTUVWXYZ\n",
        "print(string.digits)          # 0123456789\n",
        "print(\"-----------\")\n",
        "print(string.punctuation)     # '!\"#$%&\\'()*+,-./:;<=>?@[\\\\]^_`{|}~'\n",
        "print(string.printable)       # digitos + letras + puntuacion + espacios blanco\n",
        "print(\"-----------\")\n",
        "print(string.whitespace)      # espacios + tabulacion + ..."
      ],
      "execution_count": 0,
      "outputs": [
        {
          "output_type": "stream",
          "text": [
            "abcdefghijklmnopqrstuvwxyzABCDEFGHIJKLMNOPQRSTUVWXYZ\n",
            "abcdefghijklmnopqrstuvwxyz\n",
            "-----------\n",
            "ABCDEFGHIJKLMNOPQRSTUVWXYZ\n",
            "0123456789\n",
            "-----------\n",
            "!\"#$%&'()*+,-./:;<=>?@[\\]^_`{|}~\n",
            "0123456789abcdefghijklmnopqrstuvwxyzABCDEFGHIJKLMNOPQRSTUVWXYZ!\"#$%&'()*+,-./:;<=>?@[\\]^_`{|}~ \t\n",
            "\r\u000b\f\n",
            "-----------\n",
            " \t\n",
            "\r\u000b\f\n"
          ],
          "name": "stdout"
        }
      ]
    },
    {
      "cell_type": "markdown",
      "metadata": {
        "id": "OAepVl_wo8Ds",
        "colab_type": "text"
      },
      "source": [
        "# Algunas operaciones de strings"
      ]
    },
    {
      "cell_type": "code",
      "metadata": {
        "id": "b9l3L4ybo8O7",
        "colab_type": "code",
        "outputId": "a3aa3c2f-8e92-4e4b-fe12-388aa64f79e7",
        "colab": {
          "base_uri": "https://localhost:8080/",
          "height": 230
        }
      },
      "source": [
        "print(\"abc\" + \"def\")  #¿que piensas que hace esto?\n",
        "print(\"abc\" * 3)  # ¿Cuantos caracteres cres que imprime esto?\n",
        "print(\"abc\" + 3)  # ...¿Va a producir un error? (Si)"
      ],
      "execution_count": 0,
      "outputs": [
        {
          "output_type": "stream",
          "text": [
            "abcdef\n",
            "abcabcabc\n"
          ],
          "name": "stdout"
        },
        {
          "output_type": "error",
          "ename": "TypeError",
          "evalue": "ignored",
          "traceback": [
            "\u001b[0;31m---------------------------------------------------------------------------\u001b[0m",
            "\u001b[0;31mTypeError\u001b[0m                                 Traceback (most recent call last)",
            "\u001b[0;32m<ipython-input-16-872c114ade6a>\u001b[0m in \u001b[0;36m<module>\u001b[0;34m()\u001b[0m\n\u001b[1;32m      1\u001b[0m \u001b[0mprint\u001b[0m\u001b[0;34m(\u001b[0m\u001b[0;34m\"abc\"\u001b[0m \u001b[0;34m+\u001b[0m \u001b[0;34m\"def\"\u001b[0m\u001b[0;34m)\u001b[0m  \u001b[0;31m#¿que piensas que hace esto?\u001b[0m\u001b[0;34m\u001b[0m\u001b[0;34m\u001b[0m\u001b[0m\n\u001b[1;32m      2\u001b[0m \u001b[0mprint\u001b[0m\u001b[0;34m(\u001b[0m\u001b[0;34m\"abc\"\u001b[0m \u001b[0;34m*\u001b[0m \u001b[0;36m3\u001b[0m\u001b[0;34m)\u001b[0m  \u001b[0;31m# ¿Cuantos caracteres cres que imprime esto?\u001b[0m\u001b[0;34m\u001b[0m\u001b[0;34m\u001b[0m\u001b[0m\n\u001b[0;32m----> 3\u001b[0;31m \u001b[0mprint\u001b[0m\u001b[0;34m(\u001b[0m\u001b[0;34m\"abc\"\u001b[0m \u001b[0;34m+\u001b[0m \u001b[0;36m3\u001b[0m\u001b[0;34m)\u001b[0m  \u001b[0;31m# ...¿Va a producir un error? (Si)\u001b[0m\u001b[0;34m\u001b[0m\u001b[0;34m\u001b[0m\u001b[0m\n\u001b[0m",
            "\u001b[0;31mTypeError\u001b[0m: must be str, not int"
          ]
        }
      ]
    },
    {
      "cell_type": "markdown",
      "metadata": {
        "id": "PGKU3aa1qVjb",
        "colab_type": "text"
      },
      "source": [
        "El operador in"
      ]
    },
    {
      "cell_type": "code",
      "metadata": {
        "id": "F-iZmI19qYpV",
        "colab_type": "code",
        "outputId": "a94de406-1688-4a48-c896-ce5a6c50afbc",
        "colab": {
          "base_uri": "https://localhost:8080/",
          "height": 83
        }
      },
      "source": [
        "# el operador \"in\" es realmente util!\n",
        "print(\"ring\" in \"strings\")\n",
        "print(\"wow\" in \"amazing!\")\n",
        "print(\"Yes\" in \"yes!\")\n",
        "print(\"\" in \"No way!\")"
      ],
      "execution_count": 0,
      "outputs": [
        {
          "output_type": "stream",
          "text": [
            "True\n",
            "False\n",
            "False\n",
            "True\n"
          ],
          "name": "stdout"
        }
      ]
    },
    {
      "cell_type": "markdown",
      "metadata": {
        "id": "WyZduRh2qnHP",
        "colab_type": "text"
      },
      "source": [
        "Indices en string y slicing\n",
        "Indice de un caracter"
      ]
    },
    {
      "cell_type": "code",
      "metadata": {
        "id": "liThvhEksvGG",
        "colab_type": "code",
        "outputId": "5f27b1d2-272c-4c34-c7e5-5257d6bf294d",
        "colab": {
          "base_uri": "https://localhost:8080/",
          "height": 330
        }
      },
      "source": [
        "# Indexacion nos permite encontrar un caracter en una ubicacion especifica (el indice)\n",
        "s = \"abcdefgh\"\n",
        "print(s)\n",
        "print(s[0])\n",
        "print(s[1])\n",
        "print(s[2])\n",
        "\n",
        "print(\"-----------\")\n",
        "print(\"El largo de \",s,\"es\",len(s))\n",
        "\n",
        "print(\"-----------\")\n",
        "print(s[len(s)-1])\n",
        "print(s[len(s)])  # falla (string index out of range)"
      ],
      "execution_count": 0,
      "outputs": [
        {
          "output_type": "stream",
          "text": [
            "abcdefgh\n",
            "a\n",
            "b\n",
            "c\n",
            "-----------\n",
            "El largo de  abcdefgh es 8\n",
            "-----------\n",
            "h\n"
          ],
          "name": "stdout"
        },
        {
          "output_type": "error",
          "ename": "IndexError",
          "evalue": "ignored",
          "traceback": [
            "\u001b[0;31m---------------------------------------------------------------------------\u001b[0m",
            "\u001b[0;31mIndexError\u001b[0m                                Traceback (most recent call last)",
            "\u001b[0;32m<ipython-input-18-d7ebe204ba3b>\u001b[0m in \u001b[0;36m<module>\u001b[0;34m()\u001b[0m\n\u001b[1;32m     10\u001b[0m \u001b[0mprint\u001b[0m\u001b[0;34m(\u001b[0m\u001b[0;34m\"-----------\"\u001b[0m\u001b[0;34m)\u001b[0m\u001b[0;34m\u001b[0m\u001b[0;34m\u001b[0m\u001b[0m\n\u001b[1;32m     11\u001b[0m \u001b[0mprint\u001b[0m\u001b[0;34m(\u001b[0m\u001b[0ms\u001b[0m\u001b[0;34m[\u001b[0m\u001b[0mlen\u001b[0m\u001b[0;34m(\u001b[0m\u001b[0ms\u001b[0m\u001b[0;34m)\u001b[0m\u001b[0;34m-\u001b[0m\u001b[0;36m1\u001b[0m\u001b[0;34m]\u001b[0m\u001b[0;34m)\u001b[0m\u001b[0;34m\u001b[0m\u001b[0;34m\u001b[0m\u001b[0m\n\u001b[0;32m---> 12\u001b[0;31m \u001b[0mprint\u001b[0m\u001b[0;34m(\u001b[0m\u001b[0ms\u001b[0m\u001b[0;34m[\u001b[0m\u001b[0mlen\u001b[0m\u001b[0;34m(\u001b[0m\u001b[0ms\u001b[0m\u001b[0;34m)\u001b[0m\u001b[0;34m]\u001b[0m\u001b[0;34m)\u001b[0m  \u001b[0;31m# falla (string index out of range)\u001b[0m\u001b[0;34m\u001b[0m\u001b[0;34m\u001b[0m\u001b[0m\n\u001b[0m",
            "\u001b[0;31mIndexError\u001b[0m: string index out of range"
          ]
        }
      ]
    },
    {
      "cell_type": "markdown",
      "metadata": {
        "id": "XovVnbgOs_OG",
        "colab_type": "text"
      },
      "source": [
        "Indice negativo"
      ]
    },
    {
      "cell_type": "code",
      "metadata": {
        "id": "5CFXcY8Ws_b2",
        "colab_type": "code",
        "outputId": "f9586ba6-7b96-49ac-e0ce-eab6d024113e",
        "colab": {
          "base_uri": "https://localhost:8080/",
          "height": 66
        }
      },
      "source": [
        "s = \"abcdefgh\"\n",
        "print(s)\n",
        "print(s[-1])\n",
        "print(s[-2])"
      ],
      "execution_count": 0,
      "outputs": [
        {
          "output_type": "stream",
          "text": [
            "abcdefgh\n",
            "h\n",
            "g\n"
          ],
          "name": "stdout"
        }
      ]
    },
    {
      "cell_type": "markdown",
      "metadata": {
        "id": "wGB9abmbtNx1",
        "colab_type": "text"
      },
      "source": [
        "Slicing en un rango de caracteres"
      ]
    },
    {
      "cell_type": "code",
      "metadata": {
        "id": "rQwiXv0wtRq7",
        "colab_type": "code",
        "outputId": "5accfafe-63bf-432b-cb9a-879c0f3ea2cb",
        "colab": {
          "base_uri": "https://localhost:8080/",
          "height": 116
        }
      },
      "source": [
        "# Slicing es como indexar, pero te permite tomar mas de un caracter.\n",
        "# ...¿como es el rango(a,b)?\n",
        "\n",
        "s = \"abcdefgh\"\n",
        "print(s)\n",
        "print(s[0:3])\n",
        "print(s[1:3])\n",
        "print(\"-----------\")\n",
        "print(s[2:3])\n",
        "print(s[3:3])"
      ],
      "execution_count": 0,
      "outputs": [
        {
          "output_type": "stream",
          "text": [
            "abcdefgh\n",
            "abc\n",
            "bc\n",
            "-----------\n",
            "c\n",
            "\n"
          ],
          "name": "stdout"
        }
      ]
    },
    {
      "cell_type": "markdown",
      "metadata": {
        "id": "YicufhXptjQW",
        "colab_type": "text"
      },
      "source": [
        "Slicing con parametros por defecto"
      ]
    },
    {
      "cell_type": "markdown",
      "metadata": {
        "id": "hEn6anOOtnNl",
        "colab_type": "text"
      },
      "source": [
        "s = \"abcdefgh\"\n",
        "print(s)\n",
        "print(s[3:])\n",
        "print(s[:3])\n",
        "print(s[:])"
      ]
    },
    {
      "cell_type": "markdown",
      "metadata": {
        "id": "FSAAI8yLtpYB",
        "colab_type": "text"
      },
      "source": [
        "Slicing con un parametro para saltos"
      ]
    },
    {
      "cell_type": "code",
      "metadata": {
        "id": "gva-9pITttff",
        "colab_type": "code",
        "outputId": "52912f46-5115-42a7-db2a-0842b1f55a36",
        "colab": {
          "base_uri": "https://localhost:8080/",
          "height": 83
        }
      },
      "source": [
        "print(\"Esto no es comun, pero esta bien.\")\n",
        "s = \"abcdefgh\"\n",
        "print(s)\n",
        "print(s[1:7:2])\n",
        "print(s[1:7:3])"
      ],
      "execution_count": 0,
      "outputs": [
        {
          "output_type": "stream",
          "text": [
            "Esto no es comun, pero esta bien.\n",
            "abcdefgh\n",
            "bdf\n",
            "be\n"
          ],
          "name": "stdout"
        }
      ]
    },
    {
      "cell_type": "markdown",
      "metadata": {
        "id": "X740ll1Mt1jn",
        "colab_type": "text"
      },
      "source": [
        "Invirtiendo strings"
      ]
    },
    {
      "cell_type": "code",
      "metadata": {
        "id": "enjcFb-Qt5Zd",
        "colab_type": "code",
        "outputId": "e9c3cd17-65f2-4a2a-e4cd-f53dc5b6fc4f",
        "colab": {
          "base_uri": "https://localhost:8080/",
          "height": 116
        }
      },
      "source": [
        "s = \"abcdefgh\"\n",
        "\n",
        "print(\"Esto funciona, pero es confuso:\")\n",
        "print(s[::-1])\n",
        "\n",
        "print(\"Esto tambien funciona, pero siguen siendo confuso:\")\n",
        "print(\"\".join(reversed(s)))\n",
        "\n",
        "print(\"La mejor manera: escribe tu propia funcion invertirString():\")\n",
        "\n",
        "def invertirString(s):\n",
        "    return s[::-1]\n",
        "\n",
        "print(invertirString(s)) # Mas claro!"
      ],
      "execution_count": 0,
      "outputs": [
        {
          "output_type": "stream",
          "text": [
            "Esto funciona, pero es confuso:\n",
            "hgfedcba\n",
            "Esto tambien funciona, pero siguen siendo confuso:\n",
            "hgfedcba\n",
            "La mejor manera: escribe tu propia funcion invertirString():\n",
            "hgfedcba\n"
          ],
          "name": "stdout"
        }
      ]
    },
    {
      "cell_type": "markdown",
      "metadata": {
        "id": "KviAaqwouSk9",
        "colab_type": "text"
      },
      "source": [
        "## Ciclos sobre strings\n",
        "\n",
        "ciclo \"for\" con indices"
      ]
    },
    {
      "cell_type": "code",
      "metadata": {
        "id": "wX1XUY4WuSv4",
        "colab_type": "code",
        "outputId": "174d04ef-38b8-4618-8e54-c4b794318481",
        "colab": {
          "base_uri": "https://localhost:8080/",
          "height": 83
        }
      },
      "source": [
        "s = \"abcd\"\n",
        "for i in range(len(s)):\n",
        "    print(i, s[i])"
      ],
      "execution_count": 0,
      "outputs": [
        {
          "output_type": "stream",
          "text": [
            "0 a\n",
            "1 b\n",
            "2 c\n",
            "3 d\n"
          ],
          "name": "stdout"
        }
      ]
    },
    {
      "cell_type": "markdown",
      "metadata": {
        "id": "cpQ1j4njugz7",
        "colab_type": "text"
      },
      "source": [
        "ciclo \"for\" sin indice"
      ]
    },
    {
      "cell_type": "code",
      "metadata": {
        "id": "XTepEU6Lukgc",
        "colab_type": "code",
        "outputId": "14112cc6-85bd-4855-efc3-d25fb356afd1",
        "colab": {
          "base_uri": "https://localhost:8080/",
          "height": 83
        }
      },
      "source": [
        "s = \"abcd\"\n",
        "for c in s:\n",
        "    print(c)"
      ],
      "execution_count": 0,
      "outputs": [
        {
          "output_type": "stream",
          "text": [
            "a\n",
            "b\n",
            "c\n",
            "d\n"
          ],
          "name": "stdout"
        }
      ]
    },
    {
      "cell_type": "markdown",
      "metadata": {
        "id": "YVzkHnlyuo2P",
        "colab_type": "text"
      },
      "source": [
        "ciclo \"for\" con separadores (split)"
      ]
    },
    {
      "cell_type": "code",
      "metadata": {
        "id": "VF7uhnuXusIT",
        "colab_type": "code",
        "outputId": "969006fb-57fd-49b3-9a9a-4c9378f3520c",
        "colab": {
          "base_uri": "https://localhost:8080/",
          "height": 50
        }
      },
      "source": [
        "# splitlines() tambien genera una listat, solo hay que iterar por sus resultados,\n",
        "# just like split():\n",
        "\n",
        "\n",
        "quotes = \"\"\"\\\n",
        "Dijkstra: Simplicidad es un requisito para la confiabilidad.\n",
        "Knuth: Si optimizas todo, nunca seras feliz.\n",
        "Dijkstra: Perfeccionarse es tanto aprender como desapender.\n",
        "Knuth: Cuidado con los bugs en codigo anterior, solo probe lo que es correcto.\n",
        "Dijkstra: Ciencias de la computacion es sobre computadoras como la astronomia es sobre telescopios.\n",
        "\"\"\"\n",
        "for line in quotes.splitlines():\n",
        "    if (line.startswith(\"Knuth\")):\n",
        "        print(line)"
      ],
      "execution_count": 0,
      "outputs": [
        {
          "output_type": "stream",
          "text": [
            "Knuth: Si optimizas todo, nunca seras feliz.\n",
            "Knuth: Cuidado con los bugs en codigo anterior, solo probe lo que es correcto.\n"
          ],
          "name": "stdout"
        }
      ]
    },
    {
      "cell_type": "markdown",
      "metadata": {
        "id": "BsauTRrEf8hi",
        "colab_type": "text"
      },
      "source": [
        "## Ejemplo: esPalindromo\n",
        "un string es palindromo si se lee exactamente igual hacia adelante que hacia atras "
      ]
    },
    {
      "cell_type": "code",
      "metadata": {
        "id": "Tug_qa4rgTqn",
        "colab_type": "code",
        "outputId": "14d5a028-8a1a-4df9-abf2-7f12273e352a",
        "colab": {
          "base_uri": "https://localhost:8080/",
          "height": 83
        }
      },
      "source": [
        "# hay muchas formas de ver si isPalindrome(s)\n",
        "# Aqui hay algunas, ¿cual es la mejor?\n",
        "\n",
        "def reverseString(s):\n",
        "    return s[::-1]\n",
        "\n",
        "def isPalindrome1(s):\n",
        "    return (s == reverseString(s))\n",
        "\n",
        "def isPalindrome2(s):\n",
        "    for i in range(len(s)):\n",
        "        if (s[i] != s[len(s)-1-i]):\n",
        "            return False\n",
        "    return True\n",
        "\n",
        "def isPalindrome3(s):\n",
        "    for i in range(len(s)):\n",
        "        if (s[i] != s[-1-i]):\n",
        "            return False\n",
        "    return True\n",
        "\n",
        "def isPalindrome4(s):\n",
        "    while (len(s) > 1):\n",
        "        if (s[0] != s[-1]):\n",
        "            return False\n",
        "        s = s[1:-1]\n",
        "    return True\n",
        "\n",
        "print(isPalindrome1(\"abcba\"), isPalindrome1(\"abca\"))\n",
        "print(isPalindrome2(\"abcba\"), isPalindrome2(\"abca\"))\n",
        "print(isPalindrome3(\"abcba\"), isPalindrome3(\"abca\"))\n",
        "print(isPalindrome4(\"abcba\"), isPalindrome4(\"abca\"))"
      ],
      "execution_count": 0,
      "outputs": [
        {
          "output_type": "stream",
          "text": [
            "True False\n",
            "True False\n",
            "True False\n",
            "True False\n"
          ],
          "name": "stdout"
        }
      ]
    },
    {
      "cell_type": "markdown",
      "metadata": {
        "id": "YaKqyZbeigZM",
        "colab_type": "text"
      },
      "source": [
        "##Strings son inmutables\n",
        "No puedes cambiar un string es inmutable "
      ]
    },
    {
      "cell_type": "code",
      "metadata": {
        "id": "ESDQls2zirkn",
        "colab_type": "code",
        "outputId": "1f1ecf0d-0244-486e-a2d1-142b5e875f43",
        "colab": {
          "base_uri": "https://localhost:8080/",
          "height": 180
        }
      },
      "source": [
        "s = \"abcde\"\n",
        "s[2] = \"z\"  # Error! No se puede asignar en s[i]"
      ],
      "execution_count": 0,
      "outputs": [
        {
          "output_type": "error",
          "ename": "TypeError",
          "evalue": "ignored",
          "traceback": [
            "\u001b[0;31m---------------------------------------------------------------------------\u001b[0m",
            "\u001b[0;31mTypeError\u001b[0m                                 Traceback (most recent call last)",
            "\u001b[0;32m<ipython-input-2-ad98875fae71>\u001b[0m in \u001b[0;36m<module>\u001b[0;34m()\u001b[0m\n\u001b[1;32m      1\u001b[0m \u001b[0ms\u001b[0m \u001b[0;34m=\u001b[0m \u001b[0;34m\"abcde\"\u001b[0m\u001b[0;34m\u001b[0m\u001b[0;34m\u001b[0m\u001b[0m\n\u001b[0;32m----> 2\u001b[0;31m \u001b[0ms\u001b[0m\u001b[0;34m[\u001b[0m\u001b[0;36m2\u001b[0m\u001b[0;34m]\u001b[0m \u001b[0;34m=\u001b[0m \u001b[0;34m\"z\"\u001b[0m  \u001b[0;31m# Error! No se puede asignar en s[i]\u001b[0m\u001b[0;34m\u001b[0m\u001b[0;34m\u001b[0m\u001b[0m\n\u001b[0m",
            "\u001b[0;31mTypeError\u001b[0m: 'str' object does not support item assignment"
          ]
        }
      ]
    },
    {
      "cell_type": "markdown",
      "metadata": {
        "id": "7c7_o33vizYV",
        "colab_type": "text"
      },
      "source": [
        "Debemos crear un nuevo string"
      ]
    },
    {
      "cell_type": "code",
      "metadata": {
        "id": "aGIYF3lnjBGK",
        "colab_type": "code",
        "outputId": "b815f385-5550-4551-fe4d-b0e467b6a64d",
        "colab": {
          "base_uri": "https://localhost:8080/",
          "height": 33
        }
      },
      "source": [
        "s = \"abcde\"\n",
        "s = s[:2] + \"z\" + s[3:]\n",
        "print(s)"
      ],
      "execution_count": 0,
      "outputs": [
        {
          "output_type": "stream",
          "text": [
            "abzde\n"
          ],
          "name": "stdout"
        }
      ]
    },
    {
      "cell_type": "markdown",
      "metadata": {
        "id": "TkoAL2FajELS",
        "colab_type": "text"
      },
      "source": [
        "## Algunas funciones built-in relacionadas a strings\n",
        "str() y len()"
      ]
    },
    {
      "cell_type": "code",
      "metadata": {
        "id": "kr7EcsoDjNwQ",
        "colab_type": "code",
        "outputId": "b92aeb96-b8be-4683-d410-0c6e925375cb",
        "colab": {
          "base_uri": "https://localhost:8080/",
          "height": 50
        }
      },
      "source": [
        "name = input(\"Ingree su nombre: \")\n",
        "print(\"Hola, \" + name + \". Tu nombre tiene \" + str(len(name)) + \" letras!\")"
      ],
      "execution_count": 0,
      "outputs": [
        {
          "output_type": "stream",
          "text": [
            "Ingree su nombre: agustin\n",
            "Hola, agustin. Tu nombre tiene 7 letras!\n"
          ],
          "name": "stdout"
        }
      ]
    },
    {
      "cell_type": "markdown",
      "metadata": {
        "id": "uc4IDPyFjcWK",
        "colab_type": "text"
      },
      "source": [
        "chr() y ord()"
      ]
    },
    {
      "cell_type": "code",
      "metadata": {
        "id": "eWyUZeVWjguI",
        "colab_type": "code",
        "outputId": "fedbef4e-b18e-41b5-9151-0119bca79ce8",
        "colab": {
          "base_uri": "https://localhost:8080/",
          "height": 66
        }
      },
      "source": [
        "print(ord(\"A\")) # 65\n",
        "print(chr(65))  # \"A\"\n",
        "print(chr(ord(\"A\")+1)) # ?"
      ],
      "execution_count": 0,
      "outputs": [
        {
          "output_type": "stream",
          "text": [
            "65\n",
            "A\n",
            "B\n"
          ],
          "name": "stdout"
        }
      ]
    },
    {
      "cell_type": "markdown",
      "metadata": {
        "id": "NytuSCrPj0LN",
        "colab_type": "text"
      },
      "source": [
        "eval()"
      ]
    },
    {
      "cell_type": "code",
      "metadata": {
        "id": "ZLfwD3s5j1lw",
        "colab_type": "code",
        "outputId": "0c12970d-193e-4bda-ef13-fed9a998ec46",
        "colab": {
          "base_uri": "https://localhost:8080/",
          "height": 246
        }
      },
      "source": [
        "# eval()funciona pero no deberias usarlo!\n",
        "s = \"(3**2 + 4**2)**0.5\"\n",
        "print(eval(s))\n",
        "\n",
        "# ¿por que no? Bueno...\n",
        "s = \"reformatMyHardDrive()\"\n",
        "print(eval(s)) # No existe esa funcion, ¿y si existiera?"
      ],
      "execution_count": 0,
      "outputs": [
        {
          "output_type": "stream",
          "text": [
            "5.0\n"
          ],
          "name": "stdout"
        },
        {
          "output_type": "error",
          "ename": "NameError",
          "evalue": "ignored",
          "traceback": [
            "\u001b[0;31m---------------------------------------------------------------------------\u001b[0m",
            "\u001b[0;31mNameError\u001b[0m                                 Traceback (most recent call last)",
            "\u001b[0;32m<ipython-input-6-ed94df09ea70>\u001b[0m in \u001b[0;36m<module>\u001b[0;34m()\u001b[0m\n\u001b[1;32m      4\u001b[0m \u001b[0;31m# ¿por que no? Bueno...\u001b[0m\u001b[0;34m\u001b[0m\u001b[0;34m\u001b[0m\u001b[0;34m\u001b[0m\u001b[0m\n\u001b[1;32m      5\u001b[0m \u001b[0ms\u001b[0m \u001b[0;34m=\u001b[0m \u001b[0;34m\"reformatMyHardDrive()\"\u001b[0m\u001b[0;34m\u001b[0m\u001b[0;34m\u001b[0m\u001b[0m\n\u001b[0;32m----> 6\u001b[0;31m \u001b[0mprint\u001b[0m\u001b[0;34m(\u001b[0m\u001b[0meval\u001b[0m\u001b[0;34m(\u001b[0m\u001b[0ms\u001b[0m\u001b[0;34m)\u001b[0m\u001b[0;34m)\u001b[0m \u001b[0;31m# No existe esa funcion, ¿y si existiera?\u001b[0m\u001b[0;34m\u001b[0m\u001b[0;34m\u001b[0m\u001b[0m\n\u001b[0m",
            "\u001b[0;32m<string>\u001b[0m in \u001b[0;36m<module>\u001b[0;34m()\u001b[0m\n",
            "\u001b[0;31mNameError\u001b[0m: name 'reformatMyHardDrive' is not defined"
          ]
        }
      ]
    },
    {
      "cell_type": "markdown",
      "metadata": {
        "id": "du_Gb1DFlHJ7",
        "colab_type": "text"
      },
      "source": [
        "##Algunos metodos en string\n",
        "Los metodos son un tipo especial de funcion que llamamo en un valor, como en un string. Se puede decir que es un metodo porque tiene la forma valor.funcion(). ej: s.islower() en el codigo a continuacion\n",
        "\n",
        "tipos de caracteres: isalnum(), isalpha(), isdigit(), islower(), isspace(), isupper()"
      ]
    },
    {
      "cell_type": "code",
      "metadata": {
        "id": "NF7G9drYmj--",
        "colab_type": "code",
        "outputId": "fcfc8df9-435e-4c82-faaa-c29529254233",
        "colab": {
          "base_uri": "https://localhost:8080/",
          "height": 150
        }
      },
      "source": [
        "# Corre este codigo para ver la tabla de isX() \n",
        "def p(test):\n",
        "    print(\"True     \" if test else \"False    \", end=\"\")\n",
        "def printRow(s):\n",
        "    print(\" \" + s + \"  \", end=\"\")\n",
        "    p(s.isalnum())\n",
        "    p(s.isalpha())\n",
        "    p(s.isdigit())\n",
        "    p(s.islower())\n",
        "    p(s.isspace())\n",
        "    p(s.isupper())\n",
        "    print()\n",
        "def printTable():\n",
        "    print(\"  s   isalnum  isalpha  isdigit  islower  isspace  isupper\")\n",
        "    for s in \"ABCD,ABcd,abcd,ab12,1234,    ,AB?!\".split(\",\"):\n",
        "        printRow(s)\n",
        "printTable()"
      ],
      "execution_count": 0,
      "outputs": [
        {
          "output_type": "stream",
          "text": [
            "  s   isalnum  isalpha  isdigit  islower  isspace  isupper\n",
            " ABCD  True     True     False    False    False    True     \n",
            " ABcd  True     True     False    False    False    False    \n",
            " abcd  True     True     False    True     False    False    \n",
            " ab12  True     False    False    True     False    False    \n",
            " 1234  True     False    True     False    False    False    \n",
            "       False    False    False    False    True     False    \n",
            " AB?!  False    False    False    False    False    True     \n"
          ],
          "name": "stdout"
        }
      ]
    },
    {
      "cell_type": "markdown",
      "metadata": {
        "id": "VCF0fuPTm4yG",
        "colab_type": "text"
      },
      "source": [
        "editar strings: lower(), upper(), replace(), strip() "
      ]
    },
    {
      "cell_type": "code",
      "metadata": {
        "id": "UThH3Yf_m-sM",
        "colab_type": "code",
        "outputId": "94fd9329-b49a-4271-dcb7-f3940f39e4d8",
        "colab": {
          "base_uri": "https://localhost:8080/",
          "height": 150
        }
      },
      "source": [
        "print(\"Esto esta bueno. Sii!\".lower())\n",
        "print(\"¿Esto es asi?\".upper())\n",
        "print(\"   Strip eliminia los espacios al inicio y al final    \".strip())\n",
        "print(\"Esto es lindo.  Realmente lindo.\".replace(\"lindo\", \"genial\"))\n",
        "print(\"Esto es lindo.  Realmente lindo.\".replace(\"lindo\", \"geniaaal\", 1)) # count = 1\n",
        "\n",
        "print(\"----------------\")\n",
        "s = \"Esto es muy muy divertido!\"\n",
        "t = s.replace(\"muy \", \"\")\n",
        "print(t)\n",
        "print(s) # note que s no se modifico (strings es inmutable!)"
      ],
      "execution_count": 0,
      "outputs": [
        {
          "output_type": "stream",
          "text": [
            "esto esta bueno. sii!\n",
            "¿ESTO ES ASI?\n",
            "Strip eliminia los espacios al inicio y al final\n",
            "Esto es genial.  Realmente genial.\n",
            "Esto es geniaaal.  Realmente lindo.\n",
            "----------------\n",
            "Esto es divertido!\n",
            "Esto es muy muy divertido!\n"
          ],
          "name": "stdout"
        }
      ]
    },
    {
      "cell_type": "markdown",
      "metadata": {
        "id": "WpgDqZd8f9GO",
        "colab_type": "text"
      },
      "source": [
        "Busqueda en substrings: count(), startswith(), endswith(), find(), index()"
      ]
    },
    {
      "cell_type": "code",
      "metadata": {
        "id": "F61vc8I5gD8P",
        "colab_type": "code",
        "outputId": "b861c497-3699-43a7-ccc8-35c31a4318bb",
        "colab": {
          "base_uri": "https://localhost:8080/",
          "height": 413
        }
      },
      "source": [
        "print(\"Esto es un test de historia\".count(\"es\")) # 2\n",
        "print(\"Esto ES un test de historia\".count(\"es\")) # 1\n",
        "print(\"-------\")\n",
        "print(\"Perros y gatos!\".startswith(\"Pe\"))    # True\n",
        "print(\"Perros y gatos!\".startswith(\"Pero\")) # False\n",
        "print(\"-------\")\n",
        "print(\"Perros y gatos!\".endswith(\"!\"))       # True\n",
        "print(\"Perros y gatos!\".endswith(\"ratas!\"))   # False\n",
        "print(\"-------\")\n",
        "print(\"Perros y gatos!\".find(\"y\"))         # 7\n",
        "print(\"Perros y gatos!\".find(\"con\"))          # -1\n",
        "print(\"-------\")\n",
        "print(\"Perros y gatos!\".index(\"y\"))        # 7\n",
        "print(\"Perros y gatos!\".index(\"con\"))         # crash!"
      ],
      "execution_count": 0,
      "outputs": [
        {
          "output_type": "stream",
          "text": [
            "2\n",
            "1\n",
            "-------\n",
            "True\n",
            "False\n",
            "-------\n",
            "True\n",
            "False\n",
            "-------\n",
            "7\n",
            "-1\n",
            "-------\n",
            "7\n"
          ],
          "name": "stdout"
        },
        {
          "output_type": "error",
          "ename": "ValueError",
          "evalue": "ignored",
          "traceback": [
            "\u001b[0;31m---------------------------------------------------------------------------\u001b[0m",
            "\u001b[0;31mValueError\u001b[0m                                Traceback (most recent call last)",
            "\u001b[0;32m<ipython-input-1-20b18d4f2bf7>\u001b[0m in \u001b[0;36m<module>\u001b[0;34m()\u001b[0m\n\u001b[1;32m     12\u001b[0m \u001b[0mprint\u001b[0m\u001b[0;34m(\u001b[0m\u001b[0;34m\"-------\"\u001b[0m\u001b[0;34m)\u001b[0m\u001b[0;34m\u001b[0m\u001b[0;34m\u001b[0m\u001b[0m\n\u001b[1;32m     13\u001b[0m \u001b[0mprint\u001b[0m\u001b[0;34m(\u001b[0m\u001b[0;34m\"Perros y gatos!\"\u001b[0m\u001b[0;34m.\u001b[0m\u001b[0mindex\u001b[0m\u001b[0;34m(\u001b[0m\u001b[0;34m\"y\"\u001b[0m\u001b[0;34m)\u001b[0m\u001b[0;34m)\u001b[0m        \u001b[0;31m# 8\u001b[0m\u001b[0;34m\u001b[0m\u001b[0;34m\u001b[0m\u001b[0m\n\u001b[0;32m---> 14\u001b[0;31m \u001b[0mprint\u001b[0m\u001b[0;34m(\u001b[0m\u001b[0;34m\"Perros y gatos!\"\u001b[0m\u001b[0;34m.\u001b[0m\u001b[0mindex\u001b[0m\u001b[0;34m(\u001b[0m\u001b[0;34m\"con\"\u001b[0m\u001b[0;34m)\u001b[0m\u001b[0;34m)\u001b[0m         \u001b[0;31m# crash!\u001b[0m\u001b[0;34m\u001b[0m\u001b[0;34m\u001b[0m\u001b[0m\n\u001b[0m",
            "\u001b[0;31mValueError\u001b[0m: substring not found"
          ]
        }
      ]
    },
    {
      "cell_type": "markdown",
      "metadata": {
        "id": "zg2Lu80dhMQ9",
        "colab_type": "text"
      },
      "source": [
        "##String Formateado (opcional)\n",
        "formatear un string con %s"
      ]
    },
    {
      "cell_type": "code",
      "metadata": {
        "id": "AWMSJS8OheAI",
        "colab_type": "code",
        "outputId": "2f6ac275-fc79-44e3-c3d7-5652ea3234e9",
        "colab": {
          "base_uri": "https://localhost:8080/",
          "height": 33
        }
      },
      "source": [
        "breed = \"Frances\"\n",
        "print(\"Has visto un pan %s?\" % breed)"
      ],
      "execution_count": 0,
      "outputs": [
        {
          "output_type": "stream",
          "text": [
            "Has visto un pan Frances?\n"
          ],
          "name": "stdout"
        }
      ]
    },
    {
      "cell_type": "markdown",
      "metadata": {
        "id": "g0Xzq-17iTjb",
        "colab_type": "text"
      },
      "source": [
        "formateando un *entero* con %d"
      ]
    },
    {
      "cell_type": "code",
      "metadata": {
        "id": "ga3vrQTyiT7z",
        "colab_type": "code",
        "outputId": "49cfa247-5cd5-4cb2-89cf-35a39eb2d0aa",
        "colab": {
          "base_uri": "https://localhost:8080/",
          "height": 33
        }
      },
      "source": [
        "dogs = 42\n",
        "print(\"Aca hay %d perros.\" % dogs)"
      ],
      "execution_count": 0,
      "outputs": [
        {
          "output_type": "stream",
          "text": [
            "Aca hay 42 perros.\n"
          ],
          "name": "stdout"
        }
      ]
    },
    {
      "cell_type": "markdown",
      "metadata": {
        "id": "w5OLg5rWimo5",
        "colab_type": "text"
      },
      "source": [
        "formateando un *real* con %d"
      ]
    },
    {
      "cell_type": "code",
      "metadata": {
        "id": "MzlyfJsQitKA",
        "colab_type": "code",
        "outputId": "5705eb51-e2da-4a69-9bb3-eca5c67dddfc",
        "colab": {
          "base_uri": "https://localhost:8080/",
          "height": 33
        }
      },
      "source": [
        "grade = 87.385\n",
        "print(\"Tu nota actual es %f!\" % grade)"
      ],
      "execution_count": 0,
      "outputs": [
        {
          "output_type": "stream",
          "text": [
            "Tu nota actual es 87.385000!\n"
          ],
          "name": "stdout"
        }
      ]
    },
    {
      "cell_type": "markdown",
      "metadata": {
        "id": "3P-w01KKjDsE",
        "colab_type": "text"
      },
      "source": [
        "formatear un real con %.[precision]f\n",
        "Puedes controlar cuantos decimales incluir en un real cambiando cambiando el numero a la derecha del punto"
      ]
    },
    {
      "cell_type": "code",
      "metadata": {
        "id": "lc-LJmqkj8CH",
        "colab_type": "code",
        "outputId": "bfdf95fa-f654-44f3-b66c-adba56f5a61c",
        "colab": {
          "base_uri": "https://localhost:8080/",
          "height": 83
        }
      },
      "source": [
        "grade = 87.385\n",
        "print(\"Tu nota actual es %0.1f!\" % grade)\n",
        "print(\"Tu nota actual es %0.2f!\" % grade)\n",
        "print(\"Tu nota actual es is %0.3f!\" % grade)\n",
        "print(\"Tu nota actual es %0.4f!\" % grade)"
      ],
      "execution_count": 1,
      "outputs": [
        {
          "output_type": "stream",
          "name": "stdout",
          "text": "Tu nota actual es 87.4!\nTu nota actual es 87.39!\nTu nota actual es is 87.385!\nTu nota actual es 87.3850!\n"
        }
      ]
    },
    {
      "cell_type": "code",
      "metadata": {
        "id": "GIJkCGQxkFqL",
        "colab_type": "code",
        "outputId": "a9ce6a0c-6240-431c-869e-b6246bbef7b4",
        "colab": {
          "base_uri": "https://localhost:8080/",
          "height": 33
        }
      },
      "source": [
        "dogs = 42\n",
        "cats = 18\n",
        "exclamation = \"Wow\"\n",
        "print(\"Aqui hay %d perros y %d gatos. %s!!!\" % (dogs, cats, exclamation))"
      ],
      "execution_count": 0,
      "outputs": [
        {
          "output_type": "stream",
          "text": [
            "Aqui hay 42 perros y 18 gatos. Wow!!!\n"
          ],
          "name": "stdout"
        }
      ]
    },
    {
      "cell_type": "markdown",
      "metadata": {
        "id": "vi0Gjp6RkX-u",
        "colab_type": "text"
      },
      "source": [
        "formatear alineacion derecha con %[minAncho]"
      ]
    },
    {
      "cell_type": "code",
      "metadata": {
        "id": "QC_LoU7CkYKm",
        "colab_type": "code",
        "outputId": "f0ed1e7c-24ab-4a14-bfaa-a4f005dc3178",
        "colab": {
          "base_uri": "https://localhost:8080/",
          "height": 50
        }
      },
      "source": [
        "dogs = 42\n",
        "cats = 3\n",
        "print(\"%10s %10s\" % (\"perros\", \"gatos\"))\n",
        "print(\"%10d %10d\" % (dogs, cats))"
      ],
      "execution_count": 0,
      "outputs": [
        {
          "output_type": "stream",
          "text": [
            "    perros      gatos\n",
            "        42          3\n"
          ],
          "name": "stdout"
        }
      ]
    },
    {
      "cell_type": "markdown",
      "metadata": {
        "id": "vq-tko7Bm87_",
        "colab_type": "text"
      },
      "source": [
        "Formatear alineacion izquierda %-[minAncho]"
      ]
    },
    {
      "cell_type": "code",
      "metadata": {
        "id": "-QMJX1Bym9IA",
        "colab_type": "code",
        "outputId": "6ca30e3f-3c07-4b78-e0c0-bb58b1494969",
        "colab": {
          "base_uri": "https://localhost:8080/",
          "height": 50
        }
      },
      "source": [
        "dogs = 42\n",
        "cats = 3\n",
        "print(\"%-10s %-10s\" % (\"perros\", \"gatos\"))\n",
        "print(\"%-10d %-10d\" % (dogs, cats))"
      ],
      "execution_count": 0,
      "outputs": [
        {
          "output_type": "stream",
          "text": [
            "perros     gatos     \n",
            "42         3         \n"
          ],
          "name": "stdout"
        }
      ]
    },
    {
      "cell_type": "markdown",
      "metadata": {
        "id": "kjuPslqjnf5G",
        "colab_type": "text"
      },
      "source": [
        "Formatear strings con f strings"
      ]
    },
    {
      "cell_type": "code",
      "metadata": {
        "id": "K8ZklTECngFF",
        "colab_type": "code",
        "outputId": "5af07106-175c-4f24-ca4e-bdccb6125b3e",
        "colab": {
          "base_uri": "https://localhost:8080/",
          "height": 33
        }
      },
      "source": [
        "#Esto muestra una forma relativamente linda de formatear strings\n",
        "x = 42\n",
        "y = 99\n",
        "# Coloque los nombres de las variables etre {llaves} para imprimir sus valores, de esta forma:\n",
        "print(f'Conocias que {x} + {y} es {x+y}?')"
      ],
      "execution_count": 0,
      "outputs": [
        {
          "output_type": "stream",
          "text": [
            "Conocias que 42 + 99 es 141?\n"
          ],
          "name": "stdout"
        }
      ]
    },
    {
      "cell_type": "markdown",
      "metadata": {
        "id": "lcTeOzRBodXp",
        "colab_type": "text"
      },
      "source": [
        "Lectura escritura en archivos"
      ]
    },
    {
      "cell_type": "code",
      "metadata": {
        "id": "bJFCSAvWoqx2",
        "colab_type": "code",
        "outputId": "da8bb5fe-f685-4b31-9d4d-4b0ffe788ee2",
        "colab": {
          "base_uri": "https://localhost:8080/",
          "height": 33
        }
      },
      "source": [
        "# Nota: Esto requiere leer y escribir en su disco,\n",
        "#       this will not run in the browser in Brython.\n",
        "\n",
        "def readFile(path):\n",
        "    with open(path, \"rt\") as f:\n",
        "        return f.read()\n",
        "\n",
        "def writeFile(path, contents):\n",
        "    with open(path, \"wt\") as f:\n",
        "        f.write(contents)\n",
        "\n",
        "contentsToWrite = \"Esto es una prueba!\\nEs solo un test!\"\n",
        "writeFile(\"foo.txt\", contentsToWrite)\n",
        "\n",
        "contentsRead = readFile(\"foo.txt\")\n",
        "assert(contentsRead == contentsToWrite)\n",
        "\n",
        "print(\"Abrir este archivo foo.txt y verifica el contenido.\")"
      ],
      "execution_count": 0,
      "outputs": [
        {
          "output_type": "stream",
          "text": [
            "Abrir este archivo foo.txt y verifica el contenido.\n"
          ],
          "name": "stdout"
        }
      ]
    }
  ],
  "metadata": {
    "colab": {
      "name": "Strings",
      "provenance": [],
      "collapsed_sections": [],
      "toc_visible": true
    },
    "kernelspec": {
      "name": "python36964bit00e336dfbdc54ed6935ef6ea7ba090e7",
      "display_name": "Python 3.6.9 64-bit"
    }
  },
  "nbformat": 4,
  "nbformat_minor": 0
}